{
    "cells": [
        {
            "cell_type": "markdown",
            "metadata": {},
            "source": [
                "# Explore here"
            ]
        },
        {
            "cell_type": "code",
            "execution_count": 8,
            "metadata": {},
            "outputs": [],
            "source": [
                "import os\n",
                "import pandas as pd\n",
                "import seaborn as sns\n",
                "from dotenv import load_dotenv\n",
                "import matplotlib.pyplot as plt\n",
                "\n",
                "# load the .env file variables\n",
                "load_dotenv()\n",
                "\n",
                "# Get credential values\n",
                "client_id = os.environ.get(\"CLIENT_ID\")\n",
                "client_secret = os.environ.get(\"CLIENT_SECRET\")\n"
            ]
        },
        {
            "cell_type": "code",
            "execution_count": 9,
            "metadata": {},
            "outputs": [],
            "source": [
                "import spotipy\n",
                "from spotipy.oauth2 import SpotifyClientCredentials\n",
                "\n",
                "\n",
                "lz_uri = 'spotify:artist:4SsVbpTthjScTS7U2hmr1X'\n",
                "\n",
                "spotify = spotipy.Spotify(client_credentials_manager=SpotifyClientCredentials(client_id=client_id,client_secret=client_secret))\n",
                "results = spotify.artist_top_tracks(lz_uri)"
            ]
        },
        {
            "cell_type": "code",
            "execution_count": 10,
            "metadata": {},
            "outputs": [
                {
                    "name": "stdout",
                    "output_type": "stream",
                    "text": [
                        "track    : Pa' Que La Pases Bien\n",
                        "track    : Tu No Vive Asi (feat. Mambo Kingz & DJ Luian)\n",
                        "track    : La Jumpa\n",
                        "track    : Me Prefieres A Mi\n",
                        "track    : Si Se Da - Remix\n",
                        "track    : Hace Mucho Tiempo\n",
                        "track    : Me Ama Me Odia\n",
                        "track    : Pa las girlas (con DJ Urba) - Remix\n",
                        "track    : Por Vos\n"
                    ]
                }
            ],
            "source": [
                "canciones=[]\n",
                "popularidad=[]\n",
                "duracion=[]\n",
                "for track in results['tracks'][:9]:\n",
                "    print('track    : ' + track['name'])\n",
                "    canciones.append(track['name'])\n",
                "    popularidad.append(track['popularity'])\n",
                "    duracion.append(track['duration_ms']/(1000*60)%60)\n",
                "df=pd.DataFrame()\n",
                "df['Canciones']=pd.DataFrame(canciones)\n",
                "df['Popularidad']=pd.DataFrame(popularidad)\n",
                "df['Duracion']=pd.DataFrame(duracion)\n",
                "df.index +=1"
            ]
        },
        {
            "cell_type": "code",
            "execution_count": 11,
            "metadata": {},
            "outputs": [
                {
                    "data": {
                        "text/html": [
                            "<div>\n",
                            "<style scoped>\n",
                            "    .dataframe tbody tr th:only-of-type {\n",
                            "        vertical-align: middle;\n",
                            "    }\n",
                            "\n",
                            "    .dataframe tbody tr th {\n",
                            "        vertical-align: top;\n",
                            "    }\n",
                            "\n",
                            "    .dataframe thead th {\n",
                            "        text-align: right;\n",
                            "    }\n",
                            "</style>\n",
                            "<table border=\"1\" class=\"dataframe\">\n",
                            "  <thead>\n",
                            "    <tr style=\"text-align: right;\">\n",
                            "      <th></th>\n",
                            "      <th>Canciones</th>\n",
                            "      <th>Popularidad</th>\n",
                            "      <th>Duracion</th>\n",
                            "    </tr>\n",
                            "  </thead>\n",
                            "  <tbody>\n",
                            "    <tr>\n",
                            "      <th>1</th>\n",
                            "      <td>Pa' Que La Pases Bien</td>\n",
                            "      <td>81</td>\n",
                            "      <td>3.568667</td>\n",
                            "    </tr>\n",
                            "    <tr>\n",
                            "      <th>2</th>\n",
                            "      <td>Tu No Vive Asi (feat. Mambo Kingz &amp; DJ Luian)</td>\n",
                            "      <td>81</td>\n",
                            "      <td>4.400000</td>\n",
                            "    </tr>\n",
                            "    <tr>\n",
                            "      <th>3</th>\n",
                            "      <td>La Jumpa</td>\n",
                            "      <td>73</td>\n",
                            "      <td>4.261550</td>\n",
                            "    </tr>\n",
                            "    <tr>\n",
                            "      <th>4</th>\n",
                            "      <td>Me Prefieres A Mi</td>\n",
                            "      <td>78</td>\n",
                            "      <td>3.260950</td>\n",
                            "    </tr>\n",
                            "    <tr>\n",
                            "      <th>5</th>\n",
                            "      <td>Si Se Da - Remix</td>\n",
                            "      <td>78</td>\n",
                            "      <td>5.537333</td>\n",
                            "    </tr>\n",
                            "    <tr>\n",
                            "      <th>6</th>\n",
                            "      <td>Hace Mucho Tiempo</td>\n",
                            "      <td>66</td>\n",
                            "      <td>2.855550</td>\n",
                            "    </tr>\n",
                            "    <tr>\n",
                            "      <th>7</th>\n",
                            "      <td>Me Ama Me Odia</td>\n",
                            "      <td>77</td>\n",
                            "      <td>5.448933</td>\n",
                            "    </tr>\n",
                            "    <tr>\n",
                            "      <th>8</th>\n",
                            "      <td>Pa las girlas (con DJ Urba) - Remix</td>\n",
                            "      <td>77</td>\n",
                            "      <td>4.337567</td>\n",
                            "    </tr>\n",
                            "    <tr>\n",
                            "      <th>9</th>\n",
                            "      <td>Por Vos</td>\n",
                            "      <td>74</td>\n",
                            "      <td>3.089900</td>\n",
                            "    </tr>\n",
                            "  </tbody>\n",
                            "</table>\n",
                            "</div>"
                        ],
                        "text/plain": [
                            "                                       Canciones  Popularidad  Duracion\n",
                            "1                          Pa' Que La Pases Bien           81  3.568667\n",
                            "2  Tu No Vive Asi (feat. Mambo Kingz & DJ Luian)           81  4.400000\n",
                            "3                                       La Jumpa           73  4.261550\n",
                            "4                              Me Prefieres A Mi           78  3.260950\n",
                            "5                               Si Se Da - Remix           78  5.537333\n",
                            "6                              Hace Mucho Tiempo           66  2.855550\n",
                            "7                                 Me Ama Me Odia           77  5.448933\n",
                            "8            Pa las girlas (con DJ Urba) - Remix           77  4.337567\n",
                            "9                                        Por Vos           74  3.089900"
                        ]
                    },
                    "execution_count": 11,
                    "metadata": {},
                    "output_type": "execute_result"
                }
            ],
            "source": [
                "df"
            ]
        },
        {
            "cell_type": "code",
            "execution_count": 12,
            "metadata": {},
            "outputs": [
                {
                    "name": "stdout",
                    "output_type": "stream",
                    "text": [
                        "                                               0\n",
                        "0                          Pa' Que La Pases Bien\n",
                        "1  Tu No Vive Asi (feat. Mambo Kingz & DJ Luian)\n",
                        "2                                       La Jumpa\n"
                    ]
                }
            ],
            "source": [
                "\n",
                "tracks_df = pd.DataFrame(canciones)\n",
                "\n",
                "print(tracks_df.head(3))"
            ]
        },
        {
            "cell_type": "code",
            "execution_count": 14,
            "metadata": {},
            "outputs": [
                {
                    "name": "stdout",
                    "output_type": "stream",
                    "text": [
                        "<class 'pandas.core.frame.DataFrame'>\n",
                        "RangeIndex: 9 entries, 1 to 9\n",
                        "Data columns (total 3 columns):\n",
                        " #   Column       Non-Null Count  Dtype  \n",
                        "---  ------       --------------  -----  \n",
                        " 0   Canciones    9 non-null      object \n",
                        " 1   Popularidad  9 non-null      int64  \n",
                        " 2   Duracion     9 non-null      float64\n",
                        "dtypes: float64(1), int64(1), object(1)\n",
                        "memory usage: 348.0+ bytes\n"
                    ]
                }
            ],
            "source": [
                "df.info()"
            ]
        },
        {
            "cell_type": "code",
            "execution_count": 15,
            "metadata": {},
            "outputs": [
                {
                    "data": {
                        "image/png": "[encoded data removed]",
                        "text/plain": [
                            "<Figure size 640x480 with 1 Axes>"
                        ]
                    },
                    "metadata": {},
                    "output_type": "display_data"
                }
            ],
            "source": [
                "plt.scatter(df['Duracion'], df['Popularidad'])\n",
                "plt.xlabel('Duracion (minutos)')\n",
                "plt.ylabel('Popularidad')\n",
                "plt.title('Relación entre duración y popularidad')\n",
                "plt.show()"
            ]
        }
    ],
    "metadata": {
        "kernelspec": {
            "display_name": "Python 3",
            "language": "python",
            "name": "python3"
        },
        "language_info": {
            "codemirror_mode": {
                "name": "ipython",
                "version": 3
            },
            "file_extension": ".py",
            "mimetype": "text/x-python",
            "name": "python",
            "nbconvert_exporter": "python",
            "pygments_lexer": "ipython3",
            "version": "3.11.4"
        },
        "orig_nbformat": 4
    },
    "nbformat": 4,
    "nbformat_minor": 2
}
